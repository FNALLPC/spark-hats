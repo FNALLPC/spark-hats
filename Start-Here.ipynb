{
 "cells": [
  {
   "cell_type": "markdown",
   "metadata": {},
   "source": [
    "# Big Data with Spark HATS\n",
    "\n",
    "This Hands on Advanced Tutorial Session \n",
    "([HATS](http://lpc.fnal.gov/programs/schools-workshops/hats.shtml)) is\n",
    "presented by the LPC to demonstrate a CMS analysis using\n",
    "[Apache Spark](http://spark.apache.org/),\n",
    "[Spark-ROOT](https://github.com/diana-hep/spark-root),\n",
    "[Histogrammar](http://histogrammar.org/), and\n",
    "[MatplotLib](https://matplotlib.org/). After introducing Spark, students\n",
    "will learn the steps needed to perform a basic measurement\n",
    "of the Z-boson mass using CMS data recorded in 2016.\n",
    "\n",
    "*Note* - To perform any exercise, these notebooks must be open\n",
    "within [Jupyter](https://jupyter.org). GitHub has a very nice\n",
    "notebook renderer, but it is read-only and won't actually\n",
    "execute any code. Information on how to access Jupyter can\n",
    "be found in the [README](./README.md).\n",
    "\n",
    "Before following this tutorial, run the\n",
    "[pre-exercises](notebooks/00-preexercise.ipynb) to validate that your\n",
    "environment is properly configured.\n",
    "\n",
    "## Introduction\n",
    "\n",
    "## Tutorial\n",
    "\n",
    "## Built With\n",
    "\n",
    "* [Jupyter](http://jupyter.org/) - Interactive python notebook interface\n",
    "* [Apache Spark](http://spark.apache.org/) - Fast and general engine for large-scale data processing\n",
    "* [Spark-ROOT](https://github.com/diana-hep/spark-root) - Scala-based ROOT/IO interface to Spark\n",
    "* [Histogrammar](http://histogrammar.org/) - Functional histogramming framework, optimized for Spark\n",
    "* [MatplotLib](https://matplotlib.org/) - Python plotting library\n",
    "\n",
    "## Authors\n",
    "\n",
    "* **Andrew Melo** - http://lpc.fnal.gov/fellows/2017/Andrew_Melo.shtml\n",
    "\n",
    "## Acknowledgments\n",
    "\n",
    "* The LPC Distinguished Researcher Program ([link](http://lpc.fnal.gov/fellows/2017.shtml)) - *Support for the author*\n",
    "* Advanced Computing Center for Research and Education (ACCRE) ([link](http://www.accre.vanderbilt.edu/)) - *Host facility and sysadmin support*\n",
    "* The Diana-HEP project ([link](http://diana-hep.org/)) - *Interoperability and compatibility libaries*\n",
    "* Vanderbilt Trans Institutional Program (TIPs) Award ([link](https://vanderbilt.edu/provost/occi/tips.php)) - *Big Data hardware seed funding*"
   ]
  }
 ],
 "metadata": {
  "kernelspec": {
   "display_name": "Python 2",
   "language": "python",
   "name": "python2"
  },
  "language_info": {
   "codemirror_mode": {
    "name": "ipython",
    "version": 2
   },
   "file_extension": ".py",
   "mimetype": "text/x-python",
   "name": "python",
   "nbconvert_exporter": "python",
   "pygments_lexer": "ipython2",
   "version": "2.7.5"
  }
 },
 "nbformat": 4,
 "nbformat_minor": 2
}
