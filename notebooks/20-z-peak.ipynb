{
 "cells": [
  {
   "cell_type": "markdown",
   "metadata": {
    "slideshow": {
     "slide_type": "slide"
    }
   },
   "source": [
    "# Z-Mass peak with Spark\n",
    "With the basics of an analysis under our belt, let's look at di-muon events from 2016 CMS data.\n",
    "\n",
    "For sake of berevity, we'll skip a lot of steps that would be necessary for a \"real\" result. As we walk through this simplified analysis, note how and where these extra corrections could be applied."
   ]
  },
  {
   "cell_type": "markdown",
   "metadata": {
    "slideshow": {
     "slide_type": "slide"
    }
   },
   "source": [
    "Like before, we need to begin our Spark session. You shouldn't need to change any of the following values"
   ]
  },
  {
   "cell_type": "code",
   "execution_count": 2,
   "metadata": {},
   "outputs": [],
   "source": [
    "# Start up Spark (only needs to be done once)\n",
    "import os\n",
    "import pyspark.sql\n",
    "import sys\n",
    "session = pyspark.sql.SparkSession.builder \\\n",
    "    .appName(\"pyspark-zpeak\") \\\n",
    "    .config('spark.jars.packages', 'org.diana-hep:spark-root_2.11:0.1.16,org.diana-hep:histogrammar-sparksql_2.11:1.0.4') \\\n",
    "    .getOrCreate()\n",
    "sc = session.sparkContext\n",
    "sqlContext = session"
   ]
  },
  {
   "cell_type": "markdown",
   "metadata": {
    "slideshow": {
     "slide_type": "slide"
    }
   },
   "source": [
    "# ROOT into DataFrame\n",
    "The Spark-ROOT project lets us load ROOT files directly into dataframes. Execute the following to load a standard analysis-level ntuple into ROOT then print its schema. You should see familiar branches\n",
    "\n",
    "```python\n",
    "import os\n",
    "testPath = \"file://%s/../root/test-tuple.root\" % os.getcwd()\n",
    "df = spark.read \\\n",
    "            .format(\"org.dianahep.sparkroot\") \\\n",
    "            .load(testPath)\n",
    "df.printSchema()\n",
    "```"
   ]
  },
  {
   "cell_type": "code",
   "execution_count": 6,
   "metadata": {},
   "outputs": [
    {
     "name": "stdout",
     "output_type": "stream",
     "text": [
      "root\n",
      " |-- Trigger_decision: array (nullable = true)\n",
      " |    |-- element: integer (containsNull = true)\n",
      " |-- Trigger_prescale: array (nullable = true)\n",
      " |    |-- element: integer (containsNull = true)\n",
      " |-- Muon_pt: array (nullable = true)\n",
      " |    |-- element: double (containsNull = true)\n",
      " |-- Muon_eta: array (nullable = true)\n",
      " |    |-- element: double (containsNull = true)\n",
      " |-- Muon_phi: array (nullable = true)\n",
      " |    |-- element: double (containsNull = true)\n",
      " |-- Muon_energy: array (nullable = true)\n",
      " |    |-- element: double (containsNull = true)\n",
      " |-- Muon_charge: array (nullable = true)\n",
      " |    |-- element: double (containsNull = true)\n",
      " |-- Muon_tight: array (nullable = true)\n",
      " |    |-- element: boolean (containsNull = true)\n",
      " |-- Muon_loose: array (nullable = true)\n",
      " |    |-- element: boolean (containsNull = true)\n",
      " |-- Muon_medium: array (nullable = true)\n",
      " |    |-- element: boolean (containsNull = true)\n",
      " |-- Muon_soft: array (nullable = true)\n",
      " |    |-- element: boolean (containsNull = true)\n",
      " |-- Muon_isHighPt: array (nullable = true)\n",
      " |    |-- element: boolean (containsNull = true)\n",
      " |-- Muon_pf: array (nullable = true)\n",
      " |    |-- element: boolean (containsNull = true)\n",
      " |-- Muon_isoCharged: array (nullable = true)\n",
      " |    |-- element: double (containsNull = true)\n",
      " |-- Muon_isoSum: array (nullable = true)\n",
      " |    |-- element: double (containsNull = true)\n",
      " |-- Muon_isoCharParPt: array (nullable = true)\n",
      " |    |-- element: double (containsNull = true)\n",
      " |-- Muon_isTrackerMuon: array (nullable = true)\n",
      " |    |-- element: double (containsNull = true)\n",
      " |-- Muon_POGisGood: array (nullable = true)\n",
      " |    |-- element: double (containsNull = true)\n",
      " |-- Muon_chi2: array (nullable = true)\n",
      " |    |-- element: double (containsNull = true)\n",
      " |-- Muon_validHits: array (nullable = true)\n",
      " |    |-- element: double (containsNull = true)\n",
      " |-- Muon_validHitsInner: array (nullable = true)\n",
      " |    |-- element: double (containsNull = true)\n",
      " |-- Muon_matchedStat: array (nullable = true)\n",
      " |    |-- element: double (containsNull = true)\n",
      " |-- Muon_dxy_pv: array (nullable = true)\n",
      " |    |-- element: double (containsNull = true)\n",
      " |-- Muon_dxy_bs: array (nullable = true)\n",
      " |    |-- element: double (containsNull = true)\n",
      " |-- Muon_dz_pv: array (nullable = true)\n",
      " |    |-- element: double (containsNull = true)\n",
      " |-- Muon_dz_bs: array (nullable = true)\n",
      " |    |-- element: double (containsNull = true)\n",
      " |-- Muon_dxyError: array (nullable = true)\n",
      " |    |-- element: double (containsNull = true)\n",
      " |-- Muon_dzError: array (nullable = true)\n",
      " |    |-- element: double (containsNull = true)\n",
      " |-- Muon_ndof: array (nullable = true)\n",
      " |    |-- element: double (containsNull = true)\n",
      " |-- Muon_vtx: array (nullable = true)\n",
      " |    |-- element: double (containsNull = true)\n",
      " |-- Muon_vty: array (nullable = true)\n",
      " |    |-- element: double (containsNull = true)\n",
      " |-- Muon_vtz: array (nullable = true)\n",
      " |    |-- element: double (containsNull = true)\n",
      " |-- Muon_track_pt: array (nullable = true)\n",
      " |    |-- element: double (containsNull = true)\n",
      " |-- Muon_track_ptError: array (nullable = true)\n",
      " |    |-- element: double (containsNull = true)\n",
      " |-- Muon_isGlobal: array (nullable = true)\n",
      " |    |-- element: boolean (containsNull = true)\n",
      " |-- Muon_TLayers: array (nullable = true)\n",
      " |    |-- element: double (containsNull = true)\n",
      " |-- Muon_isoNeutralHadron: array (nullable = true)\n",
      " |    |-- element: double (containsNull = true)\n",
      " |-- Muon_isoPhoton: array (nullable = true)\n",
      " |    |-- element: double (containsNull = true)\n",
      " |-- Muon_isoPU: array (nullable = true)\n",
      " |    |-- element: double (containsNull = true)\n",
      " |-- Muon_combinedIso: array (nullable = true)\n",
      " |    |-- element: double (containsNull = true)\n",
      " |-- Muon_trackRe_iso: array (nullable = true)\n",
      " |    |-- element: double (containsNull = true)\n",
      " |-- Muon_dB: array (nullable = true)\n",
      " |    |-- element: double (containsNull = true)\n",
      " |-- Muon_besttrack_pt: array (nullable = true)\n",
      " |    |-- element: double (containsNull = true)\n",
      " |-- Muon_besttrack_ptError: array (nullable = true)\n",
      " |    |-- element: double (containsNull = true)\n",
      " |-- Muon_tunePBestTrack_pt: array (nullable = true)\n",
      " |    |-- element: double (containsNull = true)\n",
      " |-- Muon_tunePBestTrackType: array (nullable = true)\n",
      " |    |-- element: double (containsNull = true)\n",
      " |-- Muon_chi2LocalPosition: array (nullable = true)\n",
      " |    |-- element: double (containsNull = true)\n",
      " |-- Muon_trkKink: array (nullable = true)\n",
      " |    |-- element: double (containsNull = true)\n",
      " |-- Muon_segmentCompatibility: array (nullable = true)\n",
      " |    |-- element: double (containsNull = true)\n",
      " |-- Muon_validFraction: array (nullable = true)\n",
      " |    |-- element: double (containsNull = true)\n",
      " |-- Muon_pixelLayersWithMeasurement: array (nullable = true)\n",
      " |    |-- element: double (containsNull = true)\n",
      " |-- Muon_qualityhighPurity: array (nullable = true)\n",
      " |    |-- element: double (containsNull = true)\n",
      " |-- Muon_track_PCAx_bs: array (nullable = true)\n",
      " |    |-- element: double (containsNull = true)\n",
      " |-- Muon_track_PCAy_bs: array (nullable = true)\n",
      " |    |-- element: double (containsNull = true)\n",
      " |-- Muon_track_PCAz_bs: array (nullable = true)\n",
      " |    |-- element: double (containsNull = true)\n",
      " |-- Muon_track_PCAx_pv: array (nullable = true)\n",
      " |    |-- element: double (containsNull = true)\n",
      " |-- Muon_track_PCAy_pv: array (nullable = true)\n",
      " |    |-- element: double (containsNull = true)\n",
      " |-- Muon_track_PCAz_pv: array (nullable = true)\n",
      " |    |-- element: double (containsNull = true)\n",
      " |-- Muon_trackFitErrorMatrix_00: array (nullable = true)\n",
      " |    |-- element: double (containsNull = true)\n",
      " |-- Muon_trackFitErrorMatrix_01: array (nullable = true)\n",
      " |    |-- element: double (containsNull = true)\n",
      " |-- Muon_trackFitErrorMatrix_02: array (nullable = true)\n",
      " |    |-- element: double (containsNull = true)\n",
      " |-- Muon_trackFitErrorMatrix_11: array (nullable = true)\n",
      " |    |-- element: double (containsNull = true)\n",
      " |-- Muon_trackFitErrorMatrix_12: array (nullable = true)\n",
      " |    |-- element: double (containsNull = true)\n",
      " |-- Muon_trackFitErrorMatrix_22: array (nullable = true)\n",
      " |    |-- element: double (containsNull = true)\n",
      " |-- patElectron_pt: array (nullable = true)\n",
      " |    |-- element: double (containsNull = true)\n",
      " |-- patElectron_eta: array (nullable = true)\n",
      " |    |-- element: double (containsNull = true)\n",
      " |-- patElectron_phi: array (nullable = true)\n",
      " |    |-- element: double (containsNull = true)\n",
      " |-- patElectron_energy: array (nullable = true)\n",
      " |    |-- element: double (containsNull = true)\n",
      " |-- patElectron_charge: array (nullable = true)\n",
      " |    |-- element: double (containsNull = true)\n",
      " |-- patElectron_isPassVeto: array (nullable = true)\n",
      " |    |-- element: integer (containsNull = true)\n",
      " |-- patElectron_isPassLoose: array (nullable = true)\n",
      " |    |-- element: integer (containsNull = true)\n",
      " |-- patElectron_isPassMedium: array (nullable = true)\n",
      " |    |-- element: integer (containsNull = true)\n",
      " |-- patElectron_isPassTight: array (nullable = true)\n",
      " |    |-- element: integer (containsNull = true)\n",
      " |-- patElectron_isPassHEEPId: array (nullable = true)\n",
      " |    |-- element: integer (containsNull = true)\n",
      " |-- patElectron_passMV1wp1Id: array (nullable = true)\n",
      " |    |-- element: integer (containsNull = true)\n",
      " |-- patElectron_passMV2wp1Id: array (nullable = true)\n",
      " |    |-- element: integer (containsNull = true)\n",
      " |-- patElectron_isoChargedHadrons: array (nullable = true)\n",
      " |    |-- element: double (containsNull = true)\n",
      " |-- patElectron_isoNeutralHadrons: array (nullable = true)\n",
      " |    |-- element: double (containsNull = true)\n",
      " |-- patElectron_isoPhotons: array (nullable = true)\n",
      " |    |-- element: double (containsNull = true)\n",
      " |-- patElectron_isoPU: array (nullable = true)\n",
      " |    |-- element: double (containsNull = true)\n",
      " |-- patElectron_expectedMissingInnerHits: array (nullable = true)\n",
      " |    |-- element: integer (containsNull = true)\n",
      " |-- patElectron_passConversionVeto: array (nullable = true)\n",
      " |    |-- element: integer (containsNull = true)\n",
      " |-- patElectron_gsfTrack_dxy_pv: array (nullable = true)\n",
      " |    |-- element: double (containsNull = true)\n",
      " |-- patElectron_gsfTrack_dxy_bs: array (nullable = true)\n",
      " |    |-- element: double (containsNull = true)\n",
      " |-- patElectron_dxyError: array (nullable = true)\n",
      " |    |-- element: double (containsNull = true)\n",
      " |-- patElectron_gsfTrack_dz_pv: array (nullable = true)\n",
      " |    |-- element: double (containsNull = true)\n",
      " |-- patElectron_gsfTrack_dz_bs: array (nullable = true)\n",
      " |    |-- element: double (containsNull = true)\n",
      " |-- patElectron_gsfTrack_normChi2: array (nullable = true)\n",
      " |    |-- element: double (containsNull = true)\n",
      " |-- patElectron_gsfTrack_ndof: array (nullable = true)\n",
      " |    |-- element: double (containsNull = true)\n",
      " |-- patElectron_gsfTrack_vtx: array (nullable = true)\n",
      " |    |-- element: double (containsNull = true)\n",
      " |-- patElectron_gsfTrack_vty: array (nullable = true)\n",
      " |    |-- element: double (containsNull = true)\n",
      " |-- patElectron_gsfTrack_vtz: array (nullable = true)\n",
      " |    |-- element: double (containsNull = true)\n",
      " |-- patElectron_gsfTrack_PCAx_bs: array (nullable = true)\n",
      " |    |-- element: double (containsNull = true)\n",
      " |-- patElectron_gsfTrack_PCAy_bs: array (nullable = true)\n",
      " |    |-- element: double (containsNull = true)\n",
      " |-- patElectron_gsfTrack_PCAz_bs: array (nullable = true)\n",
      " |    |-- element: double (containsNull = true)\n",
      " |-- patElectron_gsfTrack_PCAx_pv: array (nullable = true)\n",
      " |    |-- element: double (containsNull = true)\n",
      " |-- patElectron_gsfTrack_PCAy_pv: array (nullable = true)\n",
      " |    |-- element: double (containsNull = true)\n",
      " |-- patElectron_gsfTrack_PCAz_pv: array (nullable = true)\n",
      " |    |-- element: double (containsNull = true)\n",
      " |-- patElectron_gsfTrackFitErrorMatrix_00: array (nullable = true)\n",
      " |    |-- element: double (containsNull = true)\n",
      " |-- patElectron_gsfTrackFitErrorMatrix_01: array (nullable = true)\n",
      " |    |-- element: double (containsNull = true)\n",
      " |-- patElectron_gsfTrackFitErrorMatrix_02: array (nullable = true)\n",
      " |    |-- element: double (containsNull = true)\n",
      " |-- patElectron_gsfTrackFitErrorMatrix_11: array (nullable = true)\n",
      " |    |-- element: double (containsNull = true)\n",
      " |-- patElectron_gsfTrackFitErrorMatrix_12: array (nullable = true)\n",
      " |    |-- element: double (containsNull = true)\n",
      " |-- patElectron_gsfTrackFitErrorMatrix_22: array (nullable = true)\n",
      " |    |-- element: double (containsNull = true)\n",
      " |-- Tau_eta: array (nullable = true)\n",
      " |    |-- element: double (containsNull = true)\n",
      " |-- Tau_phi: array (nullable = true)\n",
      " |    |-- element: double (containsNull = true)\n",
      " |-- Tau_pt: array (nullable = true)\n",
      " |    |-- element: double (containsNull = true)\n",
      " |-- Tau_energy: array (nullable = true)\n",
      " |    |-- element: double (containsNull = true)\n",
      " |-- Tau_charge: array (nullable = true)\n",
      " |    |-- element: double (containsNull = true)\n",
      " |-- Tau_decayMode: array (nullable = true)\n",
      " |    |-- element: integer (containsNull = true)\n",
      " |-- Tau_nProngs: array (nullable = true)\n",
      " |    |-- element: double (containsNull = true)\n",
      " |-- Tau_chargedIsoPtSum: array (nullable = true)\n",
      " |    |-- element: double (containsNull = true)\n",
      " |-- Tau_neutralIsoPtSum: array (nullable = true)\n",
      " |    |-- element: double (containsNull = true)\n",
      " |-- Tau_puCorrPtSum: array (nullable = true)\n",
      " |    |-- element: double (containsNull = true)\n",
      " |-- Tau_byCombinedIsolationDeltaBetaCorrRaw3Hits: array (nullable = true)\n",
      " |    |-- element: double (containsNull = true)\n",
      " |-- Tau_decayModeFinding: array (nullable = true)\n",
      " |    |-- element: integer (containsNull = true)\n",
      " |-- Tau_decayModeFindingNewDMs: array (nullable = true)\n",
      " |    |-- element: integer (containsNull = true)\n",
      " |-- Tau_byLooseCombinedIsolationDeltaBetaCorr3Hits: array (nullable = true)\n",
      " |    |-- element: integer (containsNull = true)\n",
      " |-- Tau_byMediumCombinedIsolationDeltaBetaCorr3Hits: array (nullable = true)\n",
      " |    |-- element: integer (containsNull = true)\n",
      " |-- Tau_byTightCombinedIsolationDeltaBetaCorr3Hits: array (nullable = true)\n",
      " |    |-- element: integer (containsNull = true)\n",
      " |-- Tau_byVLooseIsolationMVArun2v1DBoldDMwLT: array (nullable = true)\n",
      " |    |-- element: integer (containsNull = true)\n",
      " |-- Tau_byLooseIsolationMVArun2v1DBoldDMwLT: array (nullable = true)\n",
      " |    |-- element: integer (containsNull = true)\n",
      " |-- Tau_byMediumIsolationMVArun2v1DBoldDMwLT: array (nullable = true)\n",
      " |    |-- element: integer (containsNull = true)\n",
      " |-- Tau_byTightIsolationMVArun2v1DBoldDMwLT: array (nullable = true)\n",
      " |    |-- element: integer (containsNull = true)\n",
      " |-- Tau_byVTightIsolationMVArun2v1DBoldDMwLT: array (nullable = true)\n",
      " |    |-- element: integer (containsNull = true)\n",
      " |-- Tau_byVLooseIsolationMVArun2v1DBnewDMwLT: array (nullable = true)\n",
      " |    |-- element: integer (containsNull = true)\n",
      " |-- Tau_byLooseIsolationMVArun2v1DBnewDMwLT: array (nullable = true)\n",
      " |    |-- element: integer (containsNull = true)\n",
      " |-- Tau_byMediumIsolationMVArun2v1DBnewDMwLT: array (nullable = true)\n",
      " |    |-- element: integer (containsNull = true)\n",
      " |-- Tau_byTightIsolationMVArun2v1DBnewDMwLT: array (nullable = true)\n",
      " |    |-- element: integer (containsNull = true)\n",
      " |-- Tau_byVTightIsolationMVArun2v1DBnewDMwLT: array (nullable = true)\n",
      " |    |-- element: integer (containsNull = true)\n",
      " |-- Tau_byVLooseIsolationMVArun2v1DBdR03oldDMwLT: array (nullable = true)\n",
      " |    |-- element: integer (containsNull = true)\n",
      " |-- Tau_byLooseIsolationMVArun2v1DBdR03oldDMwLT: array (nullable = true)\n",
      " |    |-- element: integer (containsNull = true)\n",
      " |-- Tau_byMediumIsolationMVArun2v1DBdR03oldDMwLT: array (nullable = true)\n",
      " |    |-- element: integer (containsNull = true)\n",
      " |-- Tau_byTightIsolationMVArun2v1DBdR03oldDMwLT: array (nullable = true)\n",
      " |    |-- element: integer (containsNull = true)\n",
      " |-- Tau_byVTightIsolationMVArun2v1DBdR03oldDMwLT: array (nullable = true)\n",
      " |    |-- element: integer (containsNull = true)\n",
      " |-- Tau_byIsolationMVArun2v1DBdR03oldDMwLTraw: array (nullable = true)\n",
      " |    |-- element: double (containsNull = true)\n",
      " |-- Tau_byIsolationMVArun2v1DBnewDMwLTraw: array (nullable = true)\n",
      " |    |-- element: double (containsNull = true)\n",
      " |-- Tau_byIsolationMVArun2v1DBoldDMwLTraw: array (nullable = true)\n",
      " |    |-- element: double (containsNull = true)\n",
      " |-- Tau_byIsolationMVArun2v1PWdR03oldDMwLTraw: array (nullable = true)\n",
      " |    |-- element: double (containsNull = true)\n",
      " |-- Tau_againstMuonLoose3: array (nullable = true)\n",
      " |    |-- element: integer (containsNull = true)\n",
      " |-- Tau_againstMuonTight3: array (nullable = true)\n",
      " |    |-- element: integer (containsNull = true)\n",
      " |-- Tau_againstElectronMVAVLooseMVA6: array (nullable = true)\n",
      " |    |-- element: integer (containsNull = true)\n",
      " |-- Tau_againstElectronMVALooseMVA6: array (nullable = true)\n",
      " |    |-- element: integer (containsNull = true)\n",
      " |-- Tau_againstElectronMVAMediumMVA6: array (nullable = true)\n",
      " |    |-- element: integer (containsNull = true)\n",
      " |-- Tau_againstElectronMVATightMVA6: array (nullable = true)\n",
      " |    |-- element: integer (containsNull = true)\n",
      " |-- Tau_leadChargedCandPt: array (nullable = true)\n",
      " |    |-- element: double (containsNull = true)\n",
      " |-- Tau_leadChargedCandEta: array (nullable = true)\n",
      " |    |-- element: double (containsNull = true)\n",
      " |-- Tau_leadChargedCandPhi: array (nullable = true)\n",
      " |    |-- element: double (containsNull = true)\n",
      " |-- Tau_leadChargedCandCharge: array (nullable = true)\n",
      " |    |-- element: double (containsNull = true)\n",
      " |-- Tau_leadChargedCandChi2: array (nullable = true)\n",
      " |    |-- element: double (containsNull = true)\n",
      " |-- Tau_leadChargedCandValidHits: array (nullable = true)\n",
      " |    |-- element: double (containsNull = true)\n",
      " |-- Tau_leadChargedCandDxy_pv: array (nullable = true)\n",
      " |    |-- element: double (containsNull = true)\n",
      " |-- Tau_leadChargedCandDxy_bs: array (nullable = true)\n",
      " |    |-- element: double (containsNull = true)\n",
      " |-- Tau_leadChargedCandDz_pv: array (nullable = true)\n",
      " |    |-- element: double (containsNull = true)\n",
      " |-- Tau_leadChargedCandDz_bs: array (nullable = true)\n",
      " |    |-- element: double (containsNull = true)\n",
      " |-- Tau_leadChargedCandDzError: array (nullable = true)\n",
      " |    |-- element: double (containsNull = true)\n",
      " |-- Tau_leadChargedCandDxyError: array (nullable = true)\n",
      " |    |-- element: double (containsNull = true)\n",
      " |-- Tau_leadChargedCandNdof: array (nullable = true)\n",
      " |    |-- element: double (containsNull = true)\n",
      " |-- Tau_leadChargedCandVtx: array (nullable = true)\n",
      " |    |-- element: double (containsNull = true)\n",
      " |-- Tau_leadChargedCandVty: array (nullable = true)\n",
      " |    |-- element: double (containsNull = true)\n",
      " |-- Tau_leadChargedCandVtz: array (nullable = true)\n",
      " |    |-- element: double (containsNull = true)\n",
      " |-- Tau_leadChargedCandTrack_pt: array (nullable = true)\n",
      " |    |-- element: double (containsNull = true)\n",
      " |-- Tau_leadChargedCandTrack_ptError: array (nullable = true)\n",
      " |    |-- element: double (containsNull = true)\n",
      " |-- Tau_leadChargedCandTrack_PCAx_bs: array (nullable = true)\n",
      " |    |-- element: double (containsNull = true)\n",
      " |-- Tau_leadChargedCandTrack_PCAy_bs: array (nullable = true)\n",
      " |    |-- element: double (containsNull = true)\n",
      " |-- Tau_leadChargedCandTrack_PCAz_bs: array (nullable = true)\n",
      " |    |-- element: double (containsNull = true)\n",
      " |-- Tau_leadChargedCandTrack_PCAx_pv: array (nullable = true)\n",
      " |    |-- element: double (containsNull = true)\n",
      " |-- Tau_leadChargedCandTrack_PCAy_pv: array (nullable = true)\n",
      " |    |-- element: double (containsNull = true)\n",
      " |-- Tau_leadChargedCandTrack_PCAz_pv: array (nullable = true)\n",
      " |    |-- element: double (containsNull = true)\n",
      " |-- Tau_leadChargedCandTrackFitErrorMatrix_00: array (nullable = true)\n",
      " |    |-- element: double (containsNull = true)\n",
      " |-- Tau_leadChargedCandTrackFitErrorMatrix_01: array (nullable = true)\n",
      " |    |-- element: double (containsNull = true)\n",
      " |-- Tau_leadChargedCandTrackFitErrorMatrix_02: array (nullable = true)\n",
      " |    |-- element: double (containsNull = true)\n",
      " |-- Tau_leadChargedCandTrackFitErrorMatrix_11: array (nullable = true)\n",
      " |    |-- element: double (containsNull = true)\n",
      " |-- Tau_leadChargedCandTrackFitErrorMatrix_12: array (nullable = true)\n",
      " |    |-- element: double (containsNull = true)\n",
      " |-- Tau_leadChargedCandTrackFitErrorMatrix_22: array (nullable = true)\n",
      " |    |-- element: double (containsNull = true)\n",
      " |-- Tau_defaultDxy: array (nullable = true)\n",
      " |    |-- element: double (containsNull = true)\n",
      " |-- Tau_defaultDxyError: array (nullable = true)\n",
      " |    |-- element: double (containsNull = true)\n",
      " |-- Tau_defaultDxySig: array (nullable = true)\n",
      " |    |-- element: double (containsNull = true)\n",
      " |-- Tau_defaultFlightLengthX: array (nullable = true)\n",
      " |    |-- element: double (containsNull = true)\n",
      " |-- Tau_defaultFlightLengthY: array (nullable = true)\n",
      " |    |-- element: double (containsNull = true)\n",
      " |-- Tau_defaultFlightLengthZ: array (nullable = true)\n",
      " |    |-- element: double (containsNull = true)\n",
      " |-- Tau_defaultFlightLengthSig: array (nullable = true)\n",
      " |    |-- element: double (containsNull = true)\n",
      " |-- Tau_default_PCAx_pv: array (nullable = true)\n",
      " |    |-- element: double (containsNull = true)\n",
      " |-- Tau_default_PCAy_pv: array (nullable = true)\n",
      " |    |-- element: double (containsNull = true)\n",
      " |-- Tau_default_PCAz_pv: array (nullable = true)\n",
      " |    |-- element: double (containsNull = true)\n",
      " |-- Tau_signal_cand_chargedHadr_pt: array (nullable = true)\n",
      " |    |-- element: array (containsNull = true)\n",
      " |    |    |-- element: float (containsNull = true)\n",
      " |-- Tau_signal_cand_chargedHadr_eta: array (nullable = true)\n",
      " |    |-- element: array (containsNull = true)\n",
      " |    |    |-- element: float (containsNull = true)\n",
      " |-- Tau_signal_cand_chargedHadr_phi: array (nullable = true)\n",
      " |    |-- element: array (containsNull = true)\n",
      " |    |    |-- element: float (containsNull = true)\n",
      " |-- Tau_signal_cand_chargedHadr_energy: array (nullable = true)\n",
      " |    |-- element: array (containsNull = true)\n",
      " |    |    |-- element: float (containsNull = true)\n",
      " |-- Tau_signal_cand_neutHadr_pt: array (nullable = true)\n",
      " |    |-- element: array (containsNull = true)\n",
      " |    |    |-- element: float (containsNull = true)\n",
      " |-- Tau_signal_cand_neutHadr_eta: array (nullable = true)\n",
      " |    |-- element: array (containsNull = true)\n",
      " |    |    |-- element: float (containsNull = true)\n",
      " |-- Tau_signal_cand_neutHadr_phi: array (nullable = true)\n",
      " |    |-- element: array (containsNull = true)\n",
      " |    |    |-- element: float (containsNull = true)\n",
      " |-- Tau_signal_cand_neutHadr_energy: array (nullable = true)\n",
      " |    |-- element: array (containsNull = true)\n",
      " |    |    |-- element: float (containsNull = true)\n",
      " |-- Jet_pt: array (nullable = true)\n",
      " |    |-- element: double (containsNull = true)\n",
      " |-- Jet_eta: array (nullable = true)\n",
      " |    |-- element: double (containsNull = true)\n",
      " |-- Jet_phi: array (nullable = true)\n",
      " |    |-- element: double (containsNull = true)\n",
      " |-- Jet_energy: array (nullable = true)\n",
      " |    |-- element: double (containsNull = true)\n",
      " |-- Jet_bDiscriminator_pfCMVAV2: array (nullable = true)\n",
      " |    |-- element: double (containsNull = true)\n",
      " |-- Jet_bDiscriminator_pfCISVV2: array (nullable = true)\n",
      " |    |-- element: double (containsNull = true)\n",
      " |-- Jet_partonFlavour: array (nullable = true)\n",
      " |    |-- element: integer (containsNull = true)\n",
      " |-- Jet_neutralHadEnergyFraction: array (nullable = true)\n",
      " |    |-- element: double (containsNull = true)\n",
      " |-- Jet_neutralEmEmEnergyFraction: array (nullable = true)\n",
      " |    |-- element: double (containsNull = true)\n",
      " |-- Jet_chargedHadronEnergyFraction: array (nullable = true)\n",
      " |    |-- element: double (containsNull = true)\n",
      " |-- Jet_chargedEmEnergyFraction: array (nullable = true)\n",
      " |    |-- element: double (containsNull = true)\n",
      " |-- Jet_muonEnergyFraction: array (nullable = true)\n",
      " |    |-- element: double (containsNull = true)\n",
      " |-- Jet_numberOfConstituents: array (nullable = true)\n",
      " |    |-- element: integer (containsNull = true)\n",
      " |-- Jet_chargedMultiplicity: array (nullable = true)\n",
      " |    |-- element: integer (containsNull = true)\n",
      " |-- Jet_puppi_pt: array (nullable = true)\n",
      " |    |-- element: double (containsNull = true)\n",
      " |-- Jet_puppi_eta: array (nullable = true)\n",
      " |    |-- element: double (containsNull = true)\n",
      " |-- Jet_puppi_phi: array (nullable = true)\n",
      " |    |-- element: double (containsNull = true)\n",
      " |-- Jet_puppi_energy: array (nullable = true)\n",
      " |    |-- element: double (containsNull = true)\n",
      " |-- Jet_puppi_bDiscriminator_pfCMVAV2: array (nullable = true)\n",
      " |    |-- element: double (containsNull = true)\n",
      " |-- Jet_puppi_bDiscriminator_pfCISVV2: array (nullable = true)\n",
      " |    |-- element: double (containsNull = true)\n",
      " |-- Jet_puppi_partonFlavour: array (nullable = true)\n",
      " |    |-- element: integer (containsNull = true)\n",
      " |-- Jet_puppi_neutralHadEnergyFraction: array (nullable = true)\n",
      " |    |-- element: double (containsNull = true)\n",
      " |-- Jet_puppi_neutralEmEmEnergyFraction: array (nullable = true)\n",
      " |    |-- element: double (containsNull = true)\n",
      " |-- Jet_puppi_chargedHadronEnergyFraction: array (nullable = true)\n",
      " |    |-- element: double (containsNull = true)\n",
      " |-- Jet_puppi_chargedEmEnergyFraction: array (nullable = true)\n",
      " |    |-- element: double (containsNull = true)\n",
      " |-- Jet_puppi_muonEnergyFraction: array (nullable = true)\n",
      " |    |-- element: double (containsNull = true)\n",
      " |-- Jet_puppi_numberOfConstituents: array (nullable = true)\n",
      " |    |-- element: integer (containsNull = true)\n",
      " |-- Jet_puppi_chargedMultiplicity: array (nullable = true)\n",
      " |    |-- element: integer (containsNull = true)\n",
      " |-- Jet_toptag_pt: array (nullable = true)\n",
      " |    |-- element: double (containsNull = true)\n",
      " |-- Jet_toptag_eta: array (nullable = true)\n",
      " |    |-- element: double (containsNull = true)\n",
      " |-- Jet_toptag_phi: array (nullable = true)\n",
      " |    |-- element: double (containsNull = true)\n",
      " |-- Jet_toptag_energy: array (nullable = true)\n",
      " |    |-- element: double (containsNull = true)\n",
      " |-- Jet_toptag_SoftDropMass: array (nullable = true)\n",
      " |    |-- element: double (containsNull = true)\n",
      " |-- Jet_toptag_PrunedMass: array (nullable = true)\n",
      " |    |-- element: double (containsNull = true)\n",
      " |-- Jet_toptag_tau1: array (nullable = true)\n",
      " |    |-- element: double (containsNull = true)\n",
      " |-- Jet_toptag_tau2: array (nullable = true)\n",
      " |    |-- element: double (containsNull = true)\n",
      " |-- Jet_toptag_tau3: array (nullable = true)\n",
      " |    |-- element: double (containsNull = true)\n",
      " |-- Jet_toptag_correction: array (nullable = true)\n",
      " |    |-- element: double (containsNull = true)\n",
      " |-- Jet_toptag_UncorrJet: array (nullable = true)\n",
      " |    |-- element: double (containsNull = true)\n",
      " |-- Jet_toptag_puppi_pt: array (nullable = true)\n",
      " |    |-- element: double (containsNull = true)\n",
      " |-- Jet_toptag_puppi_eta: array (nullable = true)\n",
      " |    |-- element: double (containsNull = true)\n",
      " |-- Jet_toptag_puppi_phi: array (nullable = true)\n",
      " |    |-- element: double (containsNull = true)\n",
      " |-- Jet_toptag_puppi_mass: array (nullable = true)\n",
      " |    |-- element: double (containsNull = true)\n",
      " |-- Jet_toptag_puppi_tau1: array (nullable = true)\n",
      " |    |-- element: double (containsNull = true)\n",
      " |-- Jet_toptag_puppi_tau2: array (nullable = true)\n",
      " |    |-- element: double (containsNull = true)\n",
      " |-- Jet_toptag_puppi_tau3: array (nullable = true)\n",
      " |    |-- element: double (containsNull = true)\n",
      " |-- Jet_toptag_puppi_mass_corr: array (nullable = true)\n",
      " |    |-- element: double (containsNull = true)\n",
      " |-- Jet_mass: array (nullable = true)\n",
      " |    |-- element: double (containsNull = true)\n",
      " |-- Jet_electronEnergy: array (nullable = true)\n",
      " |    |-- element: double (containsNull = true)\n",
      " |-- Jet_photonEnergy: array (nullable = true)\n",
      " |    |-- element: double (containsNull = true)\n",
      " |-- UncorrJet_pt: array (nullable = true)\n",
      " |    |-- element: double (containsNull = true)\n",
      " |-- Jet_puppi_mass: array (nullable = true)\n",
      " |    |-- element: double (containsNull = true)\n",
      " |-- Jet_puppi_electronEnergy: array (nullable = true)\n",
      " |    |-- element: double (containsNull = true)\n",
      " |-- Jet_puppi_photonEnergy: array (nullable = true)\n",
      " |    |-- element: double (containsNull = true)\n",
      " |-- UncorrJet_puppi_pt: array (nullable = true)\n",
      " |    |-- element: double (containsNull = true)\n",
      " |-- rho: array (nullable = true)\n",
      " |    |-- element: double (containsNull = true)\n",
      " |-- Gen_pt: array (nullable = true)\n",
      " |    |-- element: double (containsNull = true)\n",
      " |-- Gen_eta: array (nullable = true)\n",
      " |    |-- element: double (containsNull = true)\n",
      " |-- Gen_phi: array (nullable = true)\n",
      " |    |-- element: double (containsNull = true)\n",
      " |-- Gen_status: array (nullable = true)\n",
      " |    |-- element: double (containsNull = true)\n",
      " |-- Gen_pdg_id: array (nullable = true)\n",
      " |    |-- element: double (containsNull = true)\n",
      " |-- Gen_motherpdg_id: array (nullable = true)\n",
      " |    |-- element: double (containsNull = true)\n",
      " |-- Gen_energy: array (nullable = true)\n",
      " |    |-- element: double (containsNull = true)\n",
      " |-- Gen_vx: array (nullable = true)\n",
      " |    |-- element: double (containsNull = true)\n",
      " |-- Gen_vy: array (nullable = true)\n",
      " |    |-- element: double (containsNull = true)\n",
      " |-- Gen_vz: array (nullable = true)\n",
      " |    |-- element: double (containsNull = true)\n",
      " |-- Gen_charge: array (nullable = true)\n",
      " |    |-- element: double (containsNull = true)\n",
      " |-- Gen_numDaught: array (nullable = true)\n",
      " |    |-- element: double (containsNull = true)\n",
      " |-- Gen_numMother: array (nullable = true)\n",
      " |    |-- element: double (containsNull = true)\n",
      " |-- Gen_BmotherIndices: array (nullable = true)\n",
      " |    |-- element: integer (containsNull = true)\n",
      " |-- Gen_BdaughtIndices: array (nullable = true)\n",
      " |    |-- element: integer (containsNull = true)\n",
      " |-- Gen_BmotherIndex: array (nullable = true)\n",
      " |    |-- element: integer (containsNull = true)\n",
      " |-- Gen_Jet_pt: array (nullable = true)\n",
      " |    |-- element: double (containsNull = true)\n",
      " |-- Gen_Jet_eta: array (nullable = true)\n",
      " |    |-- element: double (containsNull = true)\n",
      " |-- Gen_Jet_phi: array (nullable = true)\n",
      " |    |-- element: double (containsNull = true)\n",
      " |-- Gen_Jet_energy: array (nullable = true)\n",
      " |    |-- element: double (containsNull = true)\n",
      " |-- Gen_Jet_emEnergy: array (nullable = true)\n",
      " |    |-- element: double (containsNull = true)\n",
      " |-- Gen_Jet_hadEnergy: array (nullable = true)\n",
      " |    |-- element: double (containsNull = true)\n",
      " |-- Gen_Jet_invisibleEnergy: array (nullable = true)\n",
      " |    |-- element: double (containsNull = true)\n",
      " |-- Gen_Jet_auxiliaryEnergy: array (nullable = true)\n",
      " |    |-- element: double (containsNull = true)\n",
      " |-- Gen_Jet_nConstituents: array (nullable = true)\n",
      " |    |-- element: integer (containsNull = true)\n",
      " |-- Gen_FatJet_pt: array (nullable = true)\n",
      " |    |-- element: double (containsNull = true)\n",
      " |-- Gen_FatJet_eta: array (nullable = true)\n",
      " |    |-- element: double (containsNull = true)\n",
      " |-- Gen_FatJet_phi: array (nullable = true)\n",
      " |    |-- element: double (containsNull = true)\n",
      " |-- Gen_FatJet_energy: array (nullable = true)\n",
      " |    |-- element: double (containsNull = true)\n",
      " |-- Gen_FatJet_nConstituents: array (nullable = true)\n",
      " |    |-- element: integer (containsNull = true)\n",
      " |-- weighttoppt: double (nullable = true)\n",
      " |-- Gen_genHT: double (nullable = true)\n",
      " |-- weightevt: double (nullable = true)\n",
      " |-- runNumber: integer (nullable = true)\n",
      " |-- eventNumber: integer (nullable = true)\n",
      " |-- lumiBlock: integer (nullable = true)\n",
      " |-- nObservedInTimePUVertices: integer (nullable = true)\n",
      " |-- nTruePUInteractions: float (nullable = true)\n",
      " |-- nObservedOutOfTimePUVertices: integer (nullable = true)\n",
      " |-- nObservedPlus1BXPUVertices: integer (nullable = true)\n",
      " |-- nObservedMinus1BXPUVertices: integer (nullable = true)\n",
      " |-- bestVertices: integer (nullable = true)\n",
      " |-- pvertex_x: array (nullable = true)\n",
      " |    |-- element: float (containsNull = true)\n",
      " |-- pvertex_y: array (nullable = true)\n",
      " |    |-- element: float (containsNull = true)\n",
      " |-- pvertex_z: array (nullable = true)\n",
      " |    |-- element: float (containsNull = true)\n",
      " |-- pvertex_xError: array (nullable = true)\n",
      " |    |-- element: float (containsNull = true)\n",
      " |-- pvertex_yError: array (nullable = true)\n",
      " |    |-- element: float (containsNull = true)\n",
      " |-- pvertex_zError: array (nullable = true)\n",
      " |    |-- element: float (containsNull = true)\n",
      " |-- beamSpot_x0: array (nullable = true)\n",
      " |    |-- element: float (containsNull = true)\n",
      " |-- beamSpot_y0: array (nullable = true)\n",
      " |    |-- element: float (containsNull = true)\n",
      " |-- beamSpot_z0: array (nullable = true)\n",
      " |    |-- element: float (containsNull = true)\n",
      " |-- beamSpot_xWidth: array (nullable = true)\n",
      " |    |-- element: float (containsNull = true)\n",
      " |-- beamSpot_yWidth: array (nullable = true)\n",
      " |    |-- element: float (containsNull = true)\n",
      " |-- Met_type1PF_pt: double (nullable = true)\n",
      " |-- Met_type1PF_px: double (nullable = true)\n",
      " |-- Met_type1PF_py: double (nullable = true)\n",
      " |-- Met_type1PF_pz: double (nullable = true)\n",
      " |-- Met_type1PF_sumEt: double (nullable = true)\n",
      " |-- Met_type1PF_phi: double (nullable = true)\n",
      " |-- Met_type1PF_cov00: double (nullable = true)\n",
      " |-- Met_type1PF_cov01: double (nullable = true)\n",
      " |-- Met_type1PF_cov10: double (nullable = true)\n",
      " |-- Met_type1PF_cov11: double (nullable = true)\n",
      " |-- Met_puppi_pt: double (nullable = true)\n",
      " |-- Met_puppi_px: double (nullable = true)\n",
      " |-- Met_puppi_py: double (nullable = true)\n",
      " |-- Met_puppi_pz: double (nullable = true)\n",
      " |-- Met_puppi_sumEt: double (nullable = true)\n",
      " |-- Met_puppi_phi: double (nullable = true)\n",
      " |-- Met_NoHF_pt: double (nullable = true)\n",
      " |-- Met_NoHF_px: double (nullable = true)\n",
      " |-- Met_NoHF_py: double (nullable = true)\n",
      " |-- Met_NoHF_pz: double (nullable = true)\n",
      " |-- Met_NoHF_sumEt: double (nullable = true)\n",
      " |-- Met_NoHF_phi: double (nullable = true)\n",
      " |-- Gen_Met: double (nullable = true)\n",
      " |-- Met_type1PF_shiftedPtUp: double (nullable = true)\n",
      " |-- Met_type1PF_shiftedPtDown: double (nullable = true)\n",
      " |-- Met_type1PF_UnclEnshiftedPtUp: double (nullable = true)\n",
      " |-- Met_type1PF_UnclEnshiftedPtDown: double (nullable = true)\n",
      " |-- Met_type1PF_UnclEnshiftedPhiUp: double (nullable = true)\n",
      " |-- Met_type1PF_UnclEnshiftedPhiDown: double (nullable = true)\n",
      " |-- Photon_pt: array (nullable = true)\n",
      " |    |-- element: float (containsNull = true)\n",
      " |-- Photon_eta: array (nullable = true)\n",
      " |    |-- element: float (containsNull = true)\n",
      " |-- Photon_phi: array (nullable = true)\n",
      " |    |-- element: float (containsNull = true)\n",
      " |-- Photon_energy: array (nullable = true)\n",
      " |    |-- element: float (containsNull = true)\n",
      " |-- Photon_et: array (nullable = true)\n",
      " |    |-- element: float (containsNull = true)\n",
      " |-- Photon_HoverE: array (nullable = true)\n",
      " |    |-- element: float (containsNull = true)\n",
      " |-- Photon_phoR9: array (nullable = true)\n",
      " |    |-- element: float (containsNull = true)\n",
      " |-- Photon_SigmaIEtaIEta: array (nullable = true)\n",
      " |    |-- element: float (containsNull = true)\n",
      " |-- Photon_SigmaIPhiIPhi: array (nullable = true)\n",
      " |    |-- element: float (containsNull = true)\n",
      " |-- Photon_PFChIso: array (nullable = true)\n",
      " |    |-- element: float (containsNull = true)\n",
      " |-- Photon_PFPhoIso: array (nullable = true)\n",
      " |    |-- element: float (containsNull = true)\n",
      " |-- Photon_PFNeuIso: array (nullable = true)\n",
      " |    |-- element: float (containsNull = true)\n",
      " |-- Photon_EleVeto: array (nullable = true)\n",
      " |    |-- element: integer (containsNull = true)\n",
      " |-- Photon_hasPixelSeed: array (nullable = true)\n",
      " |    |-- element: integer (containsNull = true)\n",
      " |-- pdf_weights: array (nullable = true)\n",
      " |    |-- element: double (containsNull = true)\n",
      "\n"
     ]
    }
   ],
   "source": [
    "import os\n",
    "testPath = \"file://%s/../root/test-tuple.root\" % os.getcwd()\n",
    "df = session.read \\\n",
    "            .format(\"org.dianahep.sparkroot.experimental\") \\\n",
    "            .load(testPath)\n",
    "df.printSchema()"
   ]
  },
  {
   "cell_type": "markdown",
   "metadata": {
    "slideshow": {
     "slide_type": "slide"
    }
   },
   "source": [
    "# Load the 2016 data\n",
    "The following snippet of code reads a list of input datasets from a JSON file and adds additional columns with the cross-sections and processing efficiencies."
   ]
  },
  {
   "cell_type": "code",
   "execution_count": 7,
   "metadata": {
    "slideshow": {
     "slide_type": "slide"
    }
   },
   "outputs": [
    {
     "name": "stdout",
     "output_type": "stream",
     "text": [
      "\n",
      "Loading DataFrames .......................done\n"
     ]
    }
   ],
   "source": [
    "import json\n",
    "from pyspark.sql.functions import lit\n",
    "\n",
    "dataDFList = []\n",
    "mcDFList = []\n",
    "\n",
    "sys.stdout.write(\"\\nLoading DataFrames \")\n",
    "fileInputs = json.loads(open(\"input-hats.json\", \"r\").read())\n",
    "\n",
    "for category, subcategory, path, xsec, efficiency in fileInputs: \n",
    "    if category in (\"Category\", \"DISABLED\"):\n",
    "        continue\n",
    "    \n",
    "    dsPath = \"hdfs://cmshdfs/tmp/store/group/ra2tau/\" + path + \"/\"\n",
    "    tempDF = sqlContext.read.load(dsPath) \\\n",
    "                    .withColumn(\"Category\", lit(category)) \\\n",
    "                    .withColumn(\"SubCategory\", lit(subcategory)) \\\n",
    "                    .withColumn(\"xsec\", lit(xsec)) \\\n",
    "                    .withColumn(\"eff\", lit(efficiency))\n",
    "\n",
    "    if xsec == \"DATA\":\n",
    "        dataDFList.append([tempDF, category, subcategory, xsec, efficiency])\n",
    "    else:\n",
    "        mcDFList.append([tempDF, category, subcategory, xsec, efficiency])\n",
    "\n",
    "    sys.stdout.write('.')\n",
    "print \"done\""
   ]
  },
  {
   "cell_type": "markdown",
   "metadata": {
    "slideshow": {
     "slide_type": "slide"
    }
   },
   "source": [
    "# Combine DataFrames\n",
    "The previous step yields a DataFrame per-dataset, which can be unwieldy to manage. Spark's `union` function concatenates two DataFrames together. Let's loop over everything and make a DataFrame for MC and another for data."
   ]
  },
  {
   "cell_type": "code",
   "execution_count": 8,
   "metadata": {
    "slideshow": {
     "slide_type": "-"
    }
   },
   "outputs": [
    {
     "name": "stdout",
     "output_type": "stream",
     "text": [
      "MC Partitions:  7526\n",
      "Data Partitions: 10515\n"
     ]
    }
   ],
   "source": [
    "# Monte-Carlo\n",
    "if mcDFList:\n",
    "    mcDF = mcDFList[0][0]\n",
    "    for x in mcDFList[1:]:\n",
    "        mcDF = mcDF.union(x[0])\n",
    "    print \"MC Partitions:  %d\" % mcDF.rdd.getNumPartitions()\n",
    "\n",
    "# Data\n",
    "if dataDFList:\n",
    "    dataDF = dataDFList[0][0]\n",
    "    for x in dataDFList[1:]:\n",
    "        dataDF = dataDF.union(x[0])\n",
    "    print \"Data Partitions: %d\" % dataDF.rdd.getNumPartitions()"
   ]
  },
  {
   "cell_type": "markdown",
   "metadata": {
    "slideshow": {
     "slide_type": "slide"
    }
   },
   "source": [
    "# Drop unneeded columns\n",
    "Spark is intelligent about how it executes queries, so any unneeded columns are simply not read (similar to how ROOT handles reading branches). That being said, these ntuples have 300 columns, so functions like `printSchema()` and `show()` are unintelligible. Execute the following cell to remove branches that won't be useful for this tutorial."
   ]
  },
  {
   "cell_type": "code",
   "execution_count": 9,
   "metadata": {},
   "outputs": [],
   "source": [
    "reqCol = ['Muon_pt', 'Muon_eta', 'Muon_phi', 'Muon_energy',\n",
    "          'Muon_charge', 'Muon_loose', 'Muon_tight', 'Muon_isGlobal',\n",
    "          'Jet_pt', 'Jet_eta', 'Jet_phi', 'Jet_energy',\n",
    "          'Met_type1PF_pt','Met_type1PF_px','Met_type1PF_py',\n",
    "          'Met_type1PF_pz','Met_type1PF_phi',\n",
    "          'eff', 'xsec', 'Category', 'SubCategory']\n",
    "trimMCDF = mcDF.select(*reqCol)\n",
    "trimDataDF = dataDF.select(*reqCol)"
   ]
  },
  {
   "cell_type": "markdown",
   "metadata": {
    "slideshow": {
     "slide_type": "slide"
    }
   },
   "source": [
    "# Weigh our MC events\n",
    "Like usual, we'll need to weigh each MC event to take into the theoretical cross-section and processing efficiency. Let's add an additional column for the `xsec * efficiency * lumi` portion of that scaling."
   ]
  },
  {
   "cell_type": "code",
   "execution_count": 10,
   "metadata": {
    "slideshow": {
     "slide_type": "-"
    }
   },
   "outputs": [],
   "source": [
    "processedLumiPB = 35900\n",
    "mcWeight = (trimMCDF['xsec'] * trimMCDF['eff'] * processedLumiPB)\n",
    "weightedMCDF = trimMCDF.withColumn(\"weight\", 1/mcWeight)\n",
    "weightedDataDF = trimDataDF.withColumn(\"weight\", lit(1.0))"
   ]
  },
  {
   "cell_type": "markdown",
   "metadata": {
    "slideshow": {
     "slide_type": "slide"
    }
   },
   "source": [
    "# Data weight?\n",
    "You probably noticed in the previous slide that we added a weight column for data as well.\n",
    "\n",
    "We would like to combine our data and MC DataFrames into a single DF, but DFs have the restriction that each row must have the same columns as every other row. In the next step, we'll combine the data and MC into one combined DF, so data also needs a weight."
   ]
  },
  {
   "cell_type": "code",
   "execution_count": 11,
   "metadata": {
    "slideshow": {
     "slide_type": "-"
    }
   },
   "outputs": [],
   "source": [
    "# Combine Data and MC frames\n",
    "trimDF = weightedMCDF.union(weightedDataDF)"
   ]
  },
  {
   "cell_type": "markdown",
   "metadata": {
    "slideshow": {
     "slide_type": "slide"
    }
   },
   "source": [
    "Similar to doing a ROOT-based analysis, it is often helpful to split the transforms into two parts:\n",
    "\n",
    "1. A rarely changing part with either time consuming calculations or steps which drop many events\n",
    "2. A part under more active development\n",
    "\n",
    "Check-pointing after a strong cut (like the trigger) is relatively easy and is a huge boost to the time it takes to load the data for your analyses"
   ]
  },
  {
   "cell_type": "markdown",
   "metadata": {
    "slideshow": {
     "slide_type": "slide"
    }
   },
   "source": [
    "# Transform our DataFrame\n",
    "At this point, we've loaded our data into Spark, and we're ready to begin applying object and event selections. We'll do these selections by applying a transformation to our input data to get a new DF. Then, we repeat the process by applying a transformation to this new DF to get another DF (and so on)."
   ]
  },
  {
   "cell_type": "markdown",
   "metadata": {
    "slideshow": {
     "slide_type": "slide"
    }
   },
   "source": [
    "# DataFrames are functional\n",
    "Producing results by chaining several idempotent transformations together on immutable objects is known as \"functional\" programming. There are several benefits to this technique:\n",
    "\n",
    "1. Easily-implemented lazy evaluation\n",
    "2. Easier to (auto-) parallelize\n",
    "3. \"Where\" an object came from is well-defined"
   ]
  },
  {
   "cell_type": "markdown",
   "metadata": {
    "slideshow": {
     "slide_type": "slide"
    }
   },
   "source": [
    "# Our input\n",
    "Let's take a moment to look our input DF. First, let's look at the schema"
   ]
  },
  {
   "cell_type": "code",
   "execution_count": 14,
   "metadata": {
    "slideshow": {
     "slide_type": "-"
    }
   },
   "outputs": [
    {
     "name": "stdout",
     "output_type": "stream",
     "text": [
      "root\n",
      " |-- Muon_pt: array (nullable = true)\n",
      " |    |-- element: double (containsNull = true)\n",
      " |-- Muon_eta: array (nullable = true)\n",
      " |    |-- element: double (containsNull = true)\n",
      " |-- Muon_phi: array (nullable = true)\n",
      " |    |-- element: double (containsNull = true)\n",
      " |-- Muon_energy: array (nullable = true)\n",
      " |    |-- element: double (containsNull = true)\n",
      " |-- Muon_charge: array (nullable = true)\n",
      " |    |-- element: double (containsNull = true)\n",
      " |-- Muon_loose: array (nullable = true)\n",
      " |    |-- element: boolean (containsNull = true)\n",
      " |-- Muon_tight: array (nullable = true)\n",
      " |    |-- element: boolean (containsNull = true)\n",
      " |-- Muon_isGlobal: array (nullable = true)\n",
      " |    |-- element: boolean (containsNull = true)\n",
      " |-- Jet_pt: array (nullable = true)\n",
      " |    |-- element: double (containsNull = true)\n",
      " |-- Jet_eta: array (nullable = true)\n",
      " |    |-- element: double (containsNull = true)\n",
      " |-- Jet_phi: array (nullable = true)\n",
      " |    |-- element: double (containsNull = true)\n",
      " |-- Jet_energy: array (nullable = true)\n",
      " |    |-- element: double (containsNull = true)\n",
      " |-- Met_type1PF_pt: double (nullable = true)\n",
      " |-- Met_type1PF_px: double (nullable = true)\n",
      " |-- Met_type1PF_py: double (nullable = true)\n",
      " |-- Met_type1PF_pz: double (nullable = true)\n",
      " |-- Met_type1PF_phi: double (nullable = true)\n",
      " |-- eff: string (nullable = false)\n",
      " |-- xsec: string (nullable = false)\n",
      " |-- Category: string (nullable = false)\n",
      " |-- SubCategory: string (nullable = false)\n",
      " |-- weight: double (nullable = true)\n",
      "\n"
     ]
    }
   ],
   "source": [
    "trimDF.printSchema()"
   ]
  },
  {
   "cell_type": "markdown",
   "metadata": {
    "slideshow": {
     "slide_type": "slide"
    }
   },
   "source": [
    "In the next cell, let's look at the muon columns of our first row with a `select()` and a `show()`\n",
    "```python\n",
    "trimDF.select(\"Muon_pt\", \"Muon_eta\", \"Muon_phi\").show(1, truncate = False)\n",
    "```\n",
    "Spark implements this simple command by\n",
    "1. Executing `select()` against trimDF to produce a new (unnamed) DF\n",
    "2. Executing `show()` against this new DF"
   ]
  },
  {
   "cell_type": "code",
   "execution_count": null,
   "metadata": {},
   "outputs": [],
   "source": []
  },
  {
   "cell_type": "markdown",
   "metadata": {
    "slideshow": {
     "slide_type": "slide"
    }
   },
   "source": [
    "# Flatten our DataFrame\n",
    "As you can see from the previous cell (and `printSchema()`), some columns have lists and aren't plain scalar values.\n",
    "\n",
    "Since we're looking at di-muon events, let's replace the lists of muons with the properties of the two-highest pT muons in the event.\n",
    "\n",
    "This logic would be very hard to write as a `where()` statement. Let's use a User Defined Function (UDF) instead."
   ]
  },
  {
   "cell_type": "markdown",
   "metadata": {
    "slideshow": {
     "slide_type": "slide"
    }
   },
   "source": [
    "# User Defined Function (UDF)\n",
    "UDFs can be used for transformations that are more complex than can be expressed with `where()` and friends.\n",
    "\n",
    "For each row in the input DF, Spark will call your UDF and pass in the columns you request. The return value is added as a new column in the output DF."
   ]
  },
  {
   "cell_type": "markdown",
   "metadata": {
    "slideshow": {
     "slide_type": "slide"
    }
   },
   "source": [
    "Unfortunately, Spark doesn't support having a single UDF fill multiple columns, so we have to cheat a bit and pack multiple values into a single column.\n",
    "\n",
    "First, let's define a custom type for our return value"
   ]
  },
  {
   "cell_type": "code",
   "execution_count": 15,
   "metadata": {},
   "outputs": [],
   "source": [
    "from pyspark.sql.types import *\n",
    "\n",
    "schema = StructType([\n",
    "    StructField(\"pass\", BooleanType(), False),\n",
    "    StructField(\"mu1_pt\", FloatType(), False),\n",
    "    StructField(\"mu2_pt\", FloatType(), False),\n",
    "    StructField(\"mu1_eta\", FloatType(), False),\n",
    "    StructField(\"mu2_eta\", FloatType(), False),\n",
    "    StructField(\"mu1_phi\", FloatType(), False),\n",
    "    StructField(\"mu2_phi\", FloatType(), False),\n",
    "    StructField(\"mu1_charge\", FloatType(), False),\n",
    "    StructField(\"mu2_charge\", FloatType(), False),\n",
    "])"
   ]
  },
  {
   "cell_type": "markdown",
   "metadata": {
    "slideshow": {
     "slide_type": "slide"
    }
   },
   "source": [
    "Then we can define the function that Spark will use. This function can be written in several languages, but let's use Python. It's quite a bit slower than the alternatives, but is simple for our tutorial."
   ]
  },
  {
   "cell_type": "markdown",
   "metadata": {
    "slideshow": {
     "slide_type": "skip"
    }
   },
   "source": [
    "Our `muonTestFalse()` function accepts lists of muon pt, eta, phi, charge and the \"loose\" ID flag.\n",
    "\n",
    "The logic in the loop is straightforward. Look through the muons lists to find exactly two candidates which match some properties.\n",
    "\n",
    "The return value has the properties of the selected muons with an additional flag called \"pass\", which is true if the muons pass our event-wide selections."
   ]
  },
  {
   "cell_type": "code",
   "execution_count": 16,
   "metadata": {
    "slideshow": {
     "slide_type": "slide"
    }
   },
   "outputs": [],
   "source": [
    "muonTestFalse = (False, 0.0, 0.0, 0.0, 0.0, 0.0, 0.0, 0.0, 0.0)\n",
    "def muonTest(pt,eta,phi,charge,loose):\n",
    "    \"\"\"\n",
    "    An absolutely unphysical dimuon selection function\n",
    "    \"\"\"\n",
    "    passes = True\n",
    "    if len(pt) < 2:\n",
    "        return muonTestFalse\n",
    "    \n",
    "    leadingIdx = None\n",
    "    trailingIdx = None\n",
    "    for idx in range(len(pt)):\n",
    "        if leadingIdx == None:\n",
    "            if pt[idx] > 30 and abs(eta[idx]) < 2.1 and loose[idx]:\n",
    "                leadingIdx = idx\n",
    "        elif trailingIdx == None:\n",
    "            if pt[idx] > 10 and abs(eta[idx]) < 2.1 and (loose[idx]):\n",
    "                trailingIdx = idx\n",
    "        else:\n",
    "            if pt[idx] > 10 and abs(eta[idx]) < 2.1 and loose[idx]:\n",
    "                return muonTestFalse\n",
    "    \n",
    "    if leadingIdx != None and trailingIdx != None:\n",
    "        return (True, pt[leadingIdx], pt[trailingIdx],\n",
    "                        eta[leadingIdx], eta[trailingIdx],\n",
    "                        phi[leadingIdx], phi[trailingIdx],\n",
    "                        charge[leadingIdx], charge[trailingIdx])\n",
    "    else:\n",
    "        return muonTestFalse"
   ]
  },
  {
   "cell_type": "code",
   "execution_count": 17,
   "metadata": {
    "slideshow": {
     "slide_type": "skip"
    }
   },
   "outputs": [
    {
     "name": "stdout",
     "output_type": "stream",
     "text": [
      "(True, 52.707950592041016, 35.526939392089844, 0.24396079778671265, -0.08245399594306946, -0.8336199522018433, 2.2777249813079834, 1.0, -1.0)\n",
      "(False, 0.0, 0.0, 0.0, 0.0, 0.0, 0.0, 0.0, 0.0)\n"
     ]
    }
   ],
   "source": [
    "# Some example muons to test we get the right thing from our UDF\n",
    "# This should pass\n",
    "print muonTest([52.707950592041016, 35.526939392089844],\n",
    "                 [0.24396079778671265, -0.08245399594306946],\n",
    "                 [-0.8336199522018433, 2.2777249813079834],\n",
    "                 [1.0, -1.0],\n",
    "                 [True, True])\n",
    "# This should fail\n",
    "print muonTest([52.707950592041016, 5.526939392089844],\n",
    "                 [0.24396079778671265, -0.08245399594306946],\n",
    "                 [-0.8336199522018433, 2.2777249813079834],\n",
    "                 [1.0, -1.0],\n",
    "                 [True, True])"
   ]
  },
  {
   "cell_type": "markdown",
   "metadata": {
    "slideshow": {
     "slide_type": "slide"
    }
   },
   "source": [
    "# Apply the UDF\n",
    "Now that we have the UDF and result type, let's tell Spark to produce an additional column with the results of the UDF."
   ]
  },
  {
   "cell_type": "code",
   "execution_count": 18,
   "metadata": {},
   "outputs": [],
   "source": [
    "# Convert the python function to a Spark UDF\n",
    "from pyspark.sql.functions import udf\n",
    "muonUDF = udf(muonTest, schema)\n",
    "# Make a new column \"flat\" and fill it with the results of muonUDF\n",
    "flatDF = trimDF.withColumn(\"flat\", muonUDF(\"Muon_pt\", \n",
    "                                           \"Muon_eta\",\n",
    "                                           \"Muon_phi\",\n",
    "                                           \"Muon_charge\",\n",
    "                                           \"Muon_loose\"))"
   ]
  },
  {
   "cell_type": "markdown",
   "metadata": {
    "slideshow": {
     "slide_type": "slide"
    }
   },
   "source": [
    "Use the cell below to inspect the new column we just made. Modify the `show()` statement we used a few cells before. It can be helpful to also pass `truncate = False` to `show()`"
   ]
  },
  {
   "cell_type": "code",
   "execution_count": null,
   "metadata": {
    "scrolled": true
   },
   "outputs": [],
   "source": []
  },
  {
   "cell_type": "markdown",
   "metadata": {
    "slideshow": {
     "slide_type": "slide"
    }
   },
   "source": [
    "# Filter with event-level cuts\n",
    "The UDF interface allows us to fill a column, but it doesn't have the ability to throw away a row that failed certain conditions. Our UDF sets `flat.pass` to `False` for events that fail our cuts. We have to perform a second step to actually remove those events from the DataFrame.\n",
    "\n",
    "Make a new DF named `muonPassDF` with an additional requirement that `pass` is true. Then, `show()` the result.\n",
    "\n",
    "Tip: Since \"flat\" is a structure, the \"pass\" member is called flat.pass"
   ]
  },
  {
   "cell_type": "code",
   "execution_count": null,
   "metadata": {},
   "outputs": [],
   "source": []
  },
  {
   "cell_type": "code",
   "execution_count": null,
   "metadata": {},
   "outputs": [],
   "source": []
  },
  {
   "cell_type": "markdown",
   "metadata": {
    "slideshow": {
     "slide_type": "slide"
    }
   },
   "source": [
    "# Caching\n",
    "By default, Spark will use some portion of its RAM to cache DFs. You can also instruct Spark to cache both in RAM and to disk with `cache()`. This is useful for DFs who have very expensive transformations you don't want to recalculate."
   ]
  },
  {
   "cell_type": "code",
   "execution_count": 19,
   "metadata": {},
   "outputs": [
    {
     "ename": "NameError",
     "evalue": "name 'muonPassDF' is not defined",
     "output_type": "error",
     "traceback": [
      "\u001b[0;31m\u001b[0m",
      "\u001b[0;31mNameError\u001b[0mTraceback (most recent call last)",
      "\u001b[0;32m<ipython-input-19-d1d3dcb115b5>\u001b[0m in \u001b[0;36m<module>\u001b[0;34m()\u001b[0m\n\u001b[1;32m      3\u001b[0m \u001b[0;34m\u001b[0m\u001b[0m\n\u001b[1;32m      4\u001b[0m \u001b[0;31m# Instead, let's just pass the finalDF straight through\u001b[0m\u001b[0;34m\u001b[0m\u001b[0;34m\u001b[0m\u001b[0m\n\u001b[0;32m----> 5\u001b[0;31m \u001b[0mfinalDF\u001b[0m \u001b[0;34m=\u001b[0m \u001b[0mmuonPassDF\u001b[0m\u001b[0;34m\u001b[0m\u001b[0m\n\u001b[0m",
      "\u001b[0;31mNameError\u001b[0m: name 'muonPassDF' is not defined"
     ]
    }
   ],
   "source": [
    "# Explicit caching can take quite a bit of time, so let's skip it for now\n",
    "# finalDF = muonPassDF.cache()\n",
    "\n",
    "# Instead, let's just pass the finalDF straight through\n",
    "finalDF = muonPassDF"
   ]
  },
  {
   "cell_type": "markdown",
   "metadata": {
    "slideshow": {
     "slide_type": "slide"
    }
   },
   "source": [
    "# Your turn: Calculate the dimuon invariant mass\n",
    "Using the UDF example before, add a column to `finalDF` with the invariant mass of the dimuon system\n",
    "\n",
    "Tip: The relevant parts of ROOT's TLorentzVector is the following:\n",
    "```c\n",
    "void TLorentzVector::SetPtEtaPhiM(Double_t pt, Double_t eta, Double_t phi, Double_t m) {\n",
    "    pt = TMath::Abs(pt);\n",
    "    SetXYZM(pt*TMath::Cos(phi), pt*TMath::Sin(phi), pt*sinh(eta) ,m);\n",
    "}\n",
    "void TLorentzVector::SetXYZM(Double_t  x, Double_t  y, Double_t  z, Double_t m) {\n",
    "    if ( m  >= 0 )\n",
    "        SetXYZT( x, y, z, TMath::Sqrt(x*x+y*y+z*z+m*m) );\n",
    "    else\n",
    "        SetXYZT( x, y, z, TMath::Sqrt( TMath::Max((x*x+y*y+z*z-m*m), 0. ) ) );\n",
    "}\n",
    "inline void TLorentzVector::SetXYZT(Double_t  x, Double_t  y, Double_t  z, Double_t t) {\n",
    "    fP.SetXYZ(x, y, z);\n",
    "    SetT(t);\n",
    "}\n",
    "inline void TLorentzVector::SetT(Double_t a) {\n",
    "    fE = a;\n",
    "}\n",
    "TLorentzVector TLorentzVector::operator + (const TLorentzVector & q) const {\n",
    "    return TLorentzVector(fP+q.Vect(), fE+q.T());\n",
    "}\n",
    "```"
   ]
  },
  {
   "cell_type": "code",
   "execution_count": null,
   "metadata": {},
   "outputs": [],
   "source": []
  },
  {
   "cell_type": "markdown",
   "metadata": {
    "slideshow": {
     "slide_type": "slide"
    }
   },
   "source": [
    "# Finally: our requested plot\n",
    "At this point, our DF has the data we need. Run the following snippet in the next cell to load Matplotlib and Histogrammar\n",
    "\n",
    "```python\n",
    "%matplotlib inline\n",
    "import matplotlib.pyplot as plt\n",
    "import histogrammar as hg\n",
    "import histogrammar.sparksql\n",
    "```"
   ]
  },
  {
   "cell_type": "code",
   "execution_count": null,
   "metadata": {},
   "outputs": [],
   "source": []
  },
  {
   "cell_type": "markdown",
   "metadata": {
    "slideshow": {
     "slide_type": "slide"
    }
   },
   "source": [
    "# Your turn: Plot the dimuon invariant mass\n",
    "Using what you learned in the first part, plot the dimuon invariant mass for the different Monte-Carlo processes. Don't worry about making the plots pretty, that's another tutorial!"
   ]
  },
  {
   "cell_type": "code",
   "execution_count": null,
   "metadata": {},
   "outputs": [],
   "source": []
  },
  {
   "cell_type": "markdown",
   "metadata": {
    "slideshow": {
     "slide_type": "slide"
    }
   },
   "source": [
    "# More to try\n",
    "If you have time, try the following:\n",
    "* Manually implement \"isolation\" by requiring a dR between jets and muons\n",
    "* Plot additional kinematic variables (not just the inv. mass)"
   ]
  },
  {
   "cell_type": "markdown",
   "metadata": {
    "slideshow": {
     "slide_type": "slide"
    }
   },
   "source": [
    "# Future cluster improvements @ Vandy\n",
    "* Regular SSH access\n",
    "* File access to T2_US_Vanderbilt\n",
    "* File access over Xrootd\n",
    "* Opportunistic access to main cluster"
   ]
  }
 ],
 "metadata": {
  "kernelspec": {
   "display_name": "hats-spark",
   "language": "python",
   "name": "hats-spark"
  },
  "language_info": {
   "codemirror_mode": {
    "name": "ipython",
    "version": 2
   },
   "file_extension": ".py",
   "mimetype": "text/x-python",
   "name": "python",
   "nbconvert_exporter": "python",
   "pygments_lexer": "ipython2",
   "version": "2.7.5"
  }
 },
 "nbformat": 4,
 "nbformat_minor": 2
}
